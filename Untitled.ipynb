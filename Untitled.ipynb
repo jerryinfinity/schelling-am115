{
 "cells": [
  {
   "cell_type": "code",
   "execution_count": 45,
   "metadata": {
    "collapsed": true
   },
   "outputs": [],
   "source": [
    "import numpy as np\n",
    "import itertools\n",
    "\n",
    "\n",
    "n = 5 # this is n, grid size (nxnx...xn), d times\n",
    "d = 2 # this is d, number of dimensions (d<=10) \n",
    "v = 1 # this is v Note: if v=1, then we care about 3x3 squares\n",
    "m = 2 # this is m, number of types; type 1,2,...,m\n",
    "popdist = np.array([0.6, 0.4]) # proportion of each type\n",
    "rho = 0.7 # this is rho, population density\n",
    "\n",
    "# m x m matrices\n",
    "lo_thres = np.matrix([[0.33,0.],[0.,0.33]])\n",
    "hi_thres = np.matrix([[1,1],[1,1]])\n",
    "\n",
    "# number of iterations\n",
    "max_iter = 200\n",
    "\n",
    "\n",
    "# construct a grid\n",
    "def gridinit():\n",
    "    assert len(popdist) == m\n",
    "    grid = np.searchsorted(1-rho+np.insert(np.cumsum(rho*popdist),0,0.,axis=0),np.random.uniform(size=n**d))\n",
    "    return grid\n",
    "\n",
    "def pos_int2arr(pos):\n",
    "    posarr = [int(x) for x in np.base_repr(pos,base=n)]\n",
    "    posarr = np.array([0]*(d-len(posarr)) + posarr)\n",
    "    return posarr\n",
    "    \n",
    "def pos_arr2int(posarr):\n",
    "    return np.sum(np.array(posarr)*np.array([n**(d-1-i) for i in xrange(d)]))\n",
    "\n",
    "# input position pos is an integer, no neet to input grid since we only return indices\n",
    "def getneighbors(pos,nhoodsize,topology=\"grid\"):\n",
    "    if topology == \"grid\":\n",
    "        # this only works with d <= 10, but larger d is not computationally feasible anyways\n",
    "        ans = []        \n",
    "        posarr = pos_int2arr(pos)\n",
    "        offsets = itertools.product(*([range(-nhoodsize,nhoodsize+1)]*d))\n",
    "        for offset in offsets:\n",
    "            resarr = posarr + offset\n",
    "            if (resarr >= 0).all() and (resarr <= n-1).all():\n",
    "                resint = pos_arr2int(resarr)\n",
    "                if resint != pos:\n",
    "                    ans.append(resint)\n",
    "        return ans\n",
    "\n",
    "# I didn't directly use this but I'm sure it'd be useful.\n",
    "def typecount(grid):\n",
    "    # index 0 = number of empty cells, index i=1 to m = number of type i cells\n",
    "    return np.array([sum(grid==i) for i in xrange(m+1)])\n",
    "\n",
    "def ishappy(grid,pos):\n",
    "    curr_type = grid[pos]\n",
    "    if curr_type == 0:\n",
    "        return True\n",
    "    neighbors = grid[getneighbors(pos=pos,nhoodsize=v)]\n",
    "    neighbors = neighbors[neighbors > 0]\n",
    "    # alone = happy\n",
    "    if len(neighbors) == 0:\n",
    "        return True\n",
    "    else:\n",
    "        # not alone\n",
    "        for neighbor_type in range(1,m+1):            \n",
    "            ratio = sum(neighbors==neighbor_type)*1./len(neighbors)\n",
    "            if ratio > hi_thres[curr_type-1,neighbor_type-1] or ratio < lo_thres[curr_type-1,neighbor_type-1]:\n",
    "                return False\n",
    "        return True\n",
    "\n",
    "# return a new grid after agents move\n",
    "def movegrid(grid):\n",
    "    unhappy_enum = []\n",
    "    unhappy_indices = []\n",
    "    for pos in xrange(len(grid)):\n",
    "        if not ishappy(grid,pos):\n",
    "            unhappy_enum.append(grid[pos])\n",
    "            unhappy_indices.append(pos)\n",
    "    grid[unhappy_indices] = 0\n",
    "    empty_spots = np.where(grid==0)[0]\n",
    "    enum_with_dummies = unhappy_enum + [0]*(len(empty_spots)-len(unhappy_enum))\n",
    "    enum_with_dummies = np.random.permutation(enum_with_dummies)\n",
    "    grid[empty_spots] = enum_with_dummies\n",
    "    # return number of unhappy people and new grid\n",
    "    return (len(unhappy_indices), grid)\n",
    "    \n",
    "\n",
    "\n",
    "# print grid\n",
    "def printgrid(grid):\n",
    "    print grid.reshape((n,)*d)\n",
    "\n",
    "\n",
    "def example():\n",
    "    # example, we track number of unhappy people\n",
    "    # with n=10,d=2,m=2,v=1,lo_thres=diag(0.33) i.e. want at least 1/3 own,hi_thres=all ones (not binding)\n",
    "    # we get [10, 4, 1, 1, 1, 1, 1, 1, 1] \n",
    "    # terminates in 9 steps\n",
    "    # final result is\n",
    "    #[[2 2 0 2 1 1 0 1]\n",
    "    # [0 2 2 2 0 1 0 1]\n",
    "    # [0 2 2 2 1 0 1 1]\n",
    "    # [2 0 2 0 1 0 1 1]\n",
    "    # [2 0 0 1 1 1 1 0]\n",
    "    # [2 2 2 2 1 1 1 1]\n",
    "    # [2 0 2 0 2 2 2 0]\n",
    "    # [0 0 0 0 0 0 2 0]]\n",
    "    # which is completely segregated\n",
    "    results = [gridinit()]\n",
    "    unhappy_list = []\n",
    "    for cnt in xrange(max_iter):\n",
    "        oldgrid = results[cnt]\n",
    "        num_unhappy, newgrid = movegrid(oldgrid)\n",
    "        if num_unhappy > 0:\n",
    "            unhappy_list.append(num_unhappy)\n",
    "            results.append(newgrid)\n",
    "            cnt += 1\n",
    "        else:\n",
    "            break\n",
    "    return results\n",
    "        \n",
    "\n"
   ]
  },
  {
   "cell_type": "code",
   "execution_count": 49,
   "metadata": {
    "collapsed": false
   },
   "outputs": [
    {
     "name": "stdout",
     "output_type": "stream",
     "text": [
      "[1, 2, 4, 6, 7, 8, 9, 11, 12, 13, 14]\n",
      "{0: [7, 2], 1: [7, 1, 2], 2: [4, 2]}\n"
     ]
    }
   ],
   "source": [
    "results = gridinit()\n",
    "# print results\n",
    "print getneighbors(3, 2)\n",
    "def neighborhood_sizes(grid):\n",
    "    seen = set()\n",
    "    ret = {t: [] for t in xrange(m+1)}\n",
    "    while len(seen) != len(grid):\n",
    "        x = set(range(len(grid))) - seen        \n",
    "        queue = [list(x)[0]]\n",
    "        seen.add(queue[0])\n",
    "        nhood_size = 1\n",
    "        while len(queue) > 0:\n",
    "            ele = queue.pop()\n",
    "            for idx in getneighbors(ele, 1):\n",
    "                if (idx not in seen) and (grid[ele] == grid[idx]):\n",
    "                    seen.add(idx)\n",
    "                    queue.append(idx)\n",
    "                    nhood_size += 1\n",
    "        # add to dictionary\n",
    "        ret[grid[ele]].append(nhood_size)\n",
    "    return ret\n",
    "    \n",
    "print neighborhood_sizes(results)"
   ]
  },
  {
   "cell_type": "code",
   "execution_count": 50,
   "metadata": {
    "collapsed": false
   },
   "outputs": [
    {
     "name": "stdout",
     "output_type": "stream",
     "text": [
      "[[1 1 0 0 1]\n",
      " [2 1 0 1 0]\n",
      " [2 0 1 2 1]\n",
      " [2 0 0 2 0]\n",
      " [1 2 1 1 0]]\n"
     ]
    }
   ],
   "source": [
    "printgrid(results)"
   ]
  },
  {
   "cell_type": "code",
   "execution_count": 55,
   "metadata": {
    "collapsed": false
   },
   "outputs": [
    {
     "data": {
      "text/plain": [
       "[0, 2, 5, 6, 7]"
      ]
     },
     "execution_count": 55,
     "metadata": {},
     "output_type": "execute_result"
    }
   ],
   "source": [
    "getneighbors(results[20], 1)"
   ]
  },
  {
   "cell_type": "code",
   "execution_count": null,
   "metadata": {
    "collapsed": true
   },
   "outputs": [],
   "source": []
  }
 ],
 "metadata": {
  "kernelspec": {
   "display_name": "Python 2",
   "language": "python",
   "name": "python2"
  },
  "language_info": {
   "codemirror_mode": {
    "name": "ipython",
    "version": 2
   },
   "file_extension": ".py",
   "mimetype": "text/x-python",
   "name": "python",
   "nbconvert_exporter": "python",
   "pygments_lexer": "ipython2",
   "version": "2.7.12"
  }
 },
 "nbformat": 4,
 "nbformat_minor": 0
}
